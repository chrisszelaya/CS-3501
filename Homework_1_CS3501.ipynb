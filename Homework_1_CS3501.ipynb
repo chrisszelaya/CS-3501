{
  "nbformat": 4,
  "nbformat_minor": 0,
  "metadata": {
    "colab": {
      "provenance": [],
      "authorship_tag": "ABX9TyNZJADpQwrv9yUVhHl/I9SB",
      "include_colab_link": true
    },
    "kernelspec": {
      "name": "python3",
      "display_name": "Python 3"
    },
    "language_info": {
      "name": "python"
    }
  },
  "cells": [
    {
      "cell_type": "markdown",
      "metadata": {
        "id": "view-in-github",
        "colab_type": "text"
      },
      "source": [
        "<a href=\"https://colab.research.google.com/github/chrisszelaya/CS-3501/blob/main/Homework_1_CS3501.ipynb\" target=\"_parent\"><img src=\"https://colab.research.google.com/assets/colab-badge.svg\" alt=\"Open In Colab\"/></a>"
      ]
    },
    {
      "cell_type": "markdown",
      "source": [
        "# Homework 1: Getting Started with Probability"
      ],
      "metadata": {
        "id": "x8eR6D-GxjIY"
      }
    },
    {
      "cell_type": "markdown",
      "source": [
        "# Problem 1 "
      ],
      "metadata": {
        "id": "KocgmnSkx-qI"
      }
    },
    {
      "cell_type": "markdown",
      "source": [
        "The UVA men’s and women’s basketball teams are both playing Virginia Tech on the same\n",
        "day. There is a 60% chance that the UVA men win and a 60% chance that the UVA women\n",
        "win. In addition, there is a 75% chance that UVA wins at least one of the games (that is,\n",
        "they win the men’s game, or the women’s game, or both). Let M denote the event that the\n",
        "UVA men win, and let W denote the event that the UVA women win.\n",
        "\n",
        "(a) What does P(M ∪ W) mean in English? What is its value?\n",
        "\n",
        "(b) What is the probability that UVA wins both games?\n",
        "\n",
        "(c) What does P(M | W) mean in English? What is its value?\n",
        "\n",
        "(d) What is the probability that UVA wins exactly one game (men or women, but not\n",
        "both)?\n",
        "\n",
        "(e) If the UVA women lose, what is the probability that the UVA men also lose?\n"
      ],
      "metadata": {
        "id": "MxpF0T_fyEHv"
      }
    },
    {
      "cell_type": "markdown",
      "source": [
        "## Part a\n",
        "\n",
        "P(M ∪ W) means the probaility of the men's team or women's team will win a game but not both. Since M and W are not mutually exclusive we use:\n",
        "\n",
        "P(M ∪ W) = P(M) + P(W) - P(M ∩ W) = 0.60 + 0.60 - 0.36 = 0.84\n",
        "\n",
        "**P(M ∪ W)= .84**"
      ],
      "metadata": {
        "id": "uXCxidWayPP-"
      }
    },
    {
      "cell_type": "markdown",
      "source": [
        "## Part b\n",
        "\n"
      ],
      "metadata": {
        "id": "bASCarVpzhgm"
      }
    },
    {
      "cell_type": "markdown",
      "source": [
        "Since P(M) and P(W) are independent events  P(M ∩ W) = P(M) * P(W) = 0.60 * 0.60 = 0.36\n",
        "\n",
        "**P(M ∩ W)=.36**\n"
      ],
      "metadata": {
        "id": "OMv7AHZd0gE2"
      }
    },
    {
      "cell_type": "markdown",
      "source": [
        "## Part C \n",
        "\n",
        "P(M | W) is the probaility the mens team wins given that the womens team won.\n",
        "\n",
        "P(M|W)= P(M ∩ W) \\ P(W) = .36/.60 = .60\n",
        "\n",
        "\n",
        "**P(M|W)= .60**\n"
      ],
      "metadata": {
        "id": "XhNrxASr1HQH"
      }
    },
    {
      "cell_type": "markdown",
      "source": [
        "## Part d \n",
        "\n",
        "P(M ∪ W) = P(M) + P(W) - P(M ∩ W) = 0.60 + 0.60 - 0.36 = 0.84\n",
        "\n",
        "**P(M=1 | W=1)=.84**"
      ],
      "metadata": {
        "id": "Oas2lFZI1yEf"
      }
    },
    {
      "cell_type": "markdown",
      "source": [
        "## Part e\n",
        "\n",
        "P(-M|-W)= P(-M ∩ -W) \\ P(-W) = .16 / .4 = .40\n",
        "\n",
        "**P(-M|-W)=.40**"
      ],
      "metadata": {
        "id": "vIovmREP2WqG"
      }
    },
    {
      "cell_type": "markdown",
      "source": [
        "# Problem 2"
      ],
      "metadata": {
        "id": "9NuFdpTW6yNc"
      }
    },
    {
      "cell_type": "markdown",
      "source": [
        "You have two black socks, two white socks, two red socks, and two blue socks in your sock\n",
        "drawer. If you pick two socks out at random (without looking!), what is the probability that\n",
        "they match?\n",
        "\n",
        " Explain how you arrived at the answer, don’t just give a number!\n"
      ],
      "metadata": {
        "id": "Y25W46JDrzQD"
      }
    },
    {
      "cell_type": "markdown",
      "source": [
        "We have 4 groups of 2 which means we have 8 socks to choose from. We have 4 matching pairs. The total number of combinations we can choose are 8 choose 2\n",
        "\n",
        "8!/ 2!(8-2)!= 28\n",
        "\n",
        "Since we have 4 total matching elements and 28 elements in total we have a 1/7 chance of getting a matching pair\n",
        "\n",
        "**P(Match)= 1/7**"
      ],
      "metadata": {
        "id": "_IvrEcO360i1"
      }
    },
    {
      "cell_type": "markdown",
      "source": [
        "# Problem 3\n"
      ],
      "metadata": {
        "id": "pyxB8SGL87Ks"
      }
    },
    {
      "cell_type": "markdown",
      "source": [
        " According to the American Lung Association, there is a 0.13% chance to develop lung cancer.\n",
        "Of the people who have lung cancer, 90% of them are smokers. In the population of people\n",
        "who do not have lung cancer, 16.9% are smokers.\n",
        "\n",
        "(a) What percentage of the total population are smokers?\n",
        "\n",
        "(b) If you are a smoker, what is your probability to develop lung cancer?\n",
        "\n",
        "(c) If you are not a smoker, what is your probability to develop lung cancer?"
      ],
      "metadata": {
        "id": "zSZk8mYFr7ap"
      }
    },
    {
      "cell_type": "markdown",
      "source": [
        "## Part a\n",
        "\n",
        "P(Cancer)= .0013\n",
        "\n",
        "P(No Cancer)= .9987\n",
        "\n",
        "P(Smoker|Cancer)=.90\n",
        "\n",
        "P(Smoker| No Cancer)= .169\n",
        "\n",
        "P(Smoker)= P(Smoker|Cancer)*P(Cancer)+P(Smoker|No Cancer) *P(No Cancer)\n",
        "\n",
        "= .90(.0013)+ .169(.9987)= .1699503\n",
        "\n",
        "**P(Smoker)= .1669502**\n"
      ],
      "metadata": {
        "id": "hM5Y9ji69HKL"
      }
    },
    {
      "cell_type": "markdown",
      "source": [
        "## Part b\n",
        "\n",
        "P(Cancer|Smoker)= (P(Smoker|Cancer)*P(Cancer))/ P(Smoker)\n",
        "\n",
        "= (.90*.0013)/.1669502\n",
        "\n",
        "**P(Cancer | Smoker)= .0069**"
      ],
      "metadata": {
        "id": "9UDpLQLl-IkT"
      }
    },
    {
      "cell_type": "markdown",
      "source": [
        "## Part C\n",
        "\n",
        "P(Cancer | Not Smoker)= P(Not Smoker|Cancer)*P(Cancer)\\ P(No Smoker) \n",
        "\n",
        "P(Not Smoker|Cancer)= 1-P(Smoker|Cancer)\n",
        "\n",
        "= (1-P(Smoker|Cancer))*P(Cancer)\\ 1-P(Smoker)\n",
        "\n",
        "= .10(.0013)\\1-.1669502 \n",
        "\n",
        "= .0156\n",
        "\n",
        "**P(Cancer| Not Smoker)= .0156**\n",
        "\n",
        "\n",
        "\n"
      ],
      "metadata": {
        "id": "P898aThH-mdz"
      }
    },
    {
      "cell_type": "markdown",
      "source": [
        "# Problem 4"
      ],
      "metadata": {
        "id": "TdSiQ5I2skFO"
      }
    },
    {
      "cell_type": "markdown",
      "source": [
        "In this exercise we will be using data from the OASIS brain database, a publicly-available resource:http://www.oasis-brains.org\n",
        "\n",
        "\n",
        "You will be classifying dementia from the volume of the hippocampus, a brain structure that is critical to memory. The data you will use is in the spreadsheet OASIS-hippocampus.csv, which you can download from the class website. The data consists of the hippocampal volume, derived from MRI, for elderly subjects, including healthy control subjects and those with mild\n",
        "to moderate dementia. Model the right hippocampal volume (RightHippoVol) as a normal\n",
        "random variable X1 and the left hippocampal volume (LeftHippoVol) as a normal random\n",
        "variable X2. Then model the diagnosis (Dementia) as a binary random variable Y (Y = 0:\n",
        "healthy control, Y = 1: dementia). Use the training subset of the data (TrainData = 1) to\n",
        "learn the mean and variance parameters for a na¨ıve Bayes classifier. Finally, apply your na¨ıve\n",
        "Bayes classifier to get a probabilistic diagnosis of the test subset of the data (TrainData = 0).\n",
        "\n",
        "Do the following:\n",
        "\n",
        "• Plot the data as a 2D scatterplot (right and left hippocampal volume as the two axes).\n",
        "Use two different colors for the two classes (healthy/dementia). Do you think there is\n",
        "separation between the two classes?\n",
        "\n",
        "• Plot two density plots for the left and right hippocampus volumes. Again, plot a different\n",
        "density for the two classes (with the same colors as your scatterplot).\n",
        "\n",
        "• Run your classifier on the testing data. For each data point, if your classifier probability\n",
        "is greater than 0.5, predict that it is a dementia patient. Then compare with the actual\n",
        "label to see if your classifier is correct. Report your classifier accuracy on the testing\n",
        "data (number of correct classifications divided by size of the test data).\n",
        "\n",
        "Note: There are Python machine learning libraries that include a method for na¨ıve Bayes.\n",
        "You can’t use these to solve this problem! You have to write your own code to implement\n",
        "na¨ıve Bayes. However, it’s okay to try out a library’s version to check if it gives a similar\n",
        "answer to your code."
      ],
      "metadata": {
        "id": "exZ_5OrVsmdD"
      }
    },
    {
      "cell_type": "code",
      "source": [
        "import pandas as pd\n",
        "import numpy as np\n",
        "\n",
        "oasis= pd.read_csv(\"OASIS-hippocampus.csv\")\n",
        "oasis.head()"
      ],
      "metadata": {
        "id": "fm5khbjizg2f",
        "colab": {
          "base_uri": "https://localhost:8080/",
          "height": 250
        },
        "outputId": "1a6ba1f2-af27-47e0-8737-29388573fe3f"
      },
      "execution_count": null,
      "outputs": [
        {
          "output_type": "execute_result",
          "data": {
            "text/plain": [
              "   Unnamed: 0             ID M.F Hand  Age  Educ  SES  MMSE  CDR  eTIV   nWBV  \\\n",
              "0           1  OAS1_0002_MR1   F    R   55     4  1.0    29  0.0  1147  0.810   \n",
              "1           2  OAS1_0003_MR1   F    R   73     4  3.0    27  0.5  1454  0.708   \n",
              "2           7  OAS1_0010_MR1   M    R   74     5  2.0    30  0.0  1636  0.689   \n",
              "3           8  OAS1_0011_MR1   F    R   52     3  2.0    30  0.0  1321  0.827   \n",
              "4          10  OAS1_0013_MR1   F    R   81     5  2.0    30  0.0  1664  0.679   \n",
              "\n",
              "     ASF  Delay  RightHippoVol  LeftHippoVol  TrainData  Dementia  \n",
              "0  1.531    NaN           4230          3807          0         0  \n",
              "1  1.207    NaN           2896          2801          1         1  \n",
              "2  1.073    NaN           2832          2578          0         0  \n",
              "3  1.329    NaN           3978          4080          0         0  \n",
              "4  1.055    NaN           3557          3495          0         0  "
            ],
            "text/html": [
              "\n",
              "  <div id=\"df-e413e144-d9af-41f2-a4f2-90dab07f7139\">\n",
              "    <div class=\"colab-df-container\">\n",
              "      <div>\n",
              "<style scoped>\n",
              "    .dataframe tbody tr th:only-of-type {\n",
              "        vertical-align: middle;\n",
              "    }\n",
              "\n",
              "    .dataframe tbody tr th {\n",
              "        vertical-align: top;\n",
              "    }\n",
              "\n",
              "    .dataframe thead th {\n",
              "        text-align: right;\n",
              "    }\n",
              "</style>\n",
              "<table border=\"1\" class=\"dataframe\">\n",
              "  <thead>\n",
              "    <tr style=\"text-align: right;\">\n",
              "      <th></th>\n",
              "      <th>Unnamed: 0</th>\n",
              "      <th>ID</th>\n",
              "      <th>M.F</th>\n",
              "      <th>Hand</th>\n",
              "      <th>Age</th>\n",
              "      <th>Educ</th>\n",
              "      <th>SES</th>\n",
              "      <th>MMSE</th>\n",
              "      <th>CDR</th>\n",
              "      <th>eTIV</th>\n",
              "      <th>nWBV</th>\n",
              "      <th>ASF</th>\n",
              "      <th>Delay</th>\n",
              "      <th>RightHippoVol</th>\n",
              "      <th>LeftHippoVol</th>\n",
              "      <th>TrainData</th>\n",
              "      <th>Dementia</th>\n",
              "    </tr>\n",
              "  </thead>\n",
              "  <tbody>\n",
              "    <tr>\n",
              "      <th>0</th>\n",
              "      <td>1</td>\n",
              "      <td>OAS1_0002_MR1</td>\n",
              "      <td>F</td>\n",
              "      <td>R</td>\n",
              "      <td>55</td>\n",
              "      <td>4</td>\n",
              "      <td>1.0</td>\n",
              "      <td>29</td>\n",
              "      <td>0.0</td>\n",
              "      <td>1147</td>\n",
              "      <td>0.810</td>\n",
              "      <td>1.531</td>\n",
              "      <td>NaN</td>\n",
              "      <td>4230</td>\n",
              "      <td>3807</td>\n",
              "      <td>0</td>\n",
              "      <td>0</td>\n",
              "    </tr>\n",
              "    <tr>\n",
              "      <th>1</th>\n",
              "      <td>2</td>\n",
              "      <td>OAS1_0003_MR1</td>\n",
              "      <td>F</td>\n",
              "      <td>R</td>\n",
              "      <td>73</td>\n",
              "      <td>4</td>\n",
              "      <td>3.0</td>\n",
              "      <td>27</td>\n",
              "      <td>0.5</td>\n",
              "      <td>1454</td>\n",
              "      <td>0.708</td>\n",
              "      <td>1.207</td>\n",
              "      <td>NaN</td>\n",
              "      <td>2896</td>\n",
              "      <td>2801</td>\n",
              "      <td>1</td>\n",
              "      <td>1</td>\n",
              "    </tr>\n",
              "    <tr>\n",
              "      <th>2</th>\n",
              "      <td>7</td>\n",
              "      <td>OAS1_0010_MR1</td>\n",
              "      <td>M</td>\n",
              "      <td>R</td>\n",
              "      <td>74</td>\n",
              "      <td>5</td>\n",
              "      <td>2.0</td>\n",
              "      <td>30</td>\n",
              "      <td>0.0</td>\n",
              "      <td>1636</td>\n",
              "      <td>0.689</td>\n",
              "      <td>1.073</td>\n",
              "      <td>NaN</td>\n",
              "      <td>2832</td>\n",
              "      <td>2578</td>\n",
              "      <td>0</td>\n",
              "      <td>0</td>\n",
              "    </tr>\n",
              "    <tr>\n",
              "      <th>3</th>\n",
              "      <td>8</td>\n",
              "      <td>OAS1_0011_MR1</td>\n",
              "      <td>F</td>\n",
              "      <td>R</td>\n",
              "      <td>52</td>\n",
              "      <td>3</td>\n",
              "      <td>2.0</td>\n",
              "      <td>30</td>\n",
              "      <td>0.0</td>\n",
              "      <td>1321</td>\n",
              "      <td>0.827</td>\n",
              "      <td>1.329</td>\n",
              "      <td>NaN</td>\n",
              "      <td>3978</td>\n",
              "      <td>4080</td>\n",
              "      <td>0</td>\n",
              "      <td>0</td>\n",
              "    </tr>\n",
              "    <tr>\n",
              "      <th>4</th>\n",
              "      <td>10</td>\n",
              "      <td>OAS1_0013_MR1</td>\n",
              "      <td>F</td>\n",
              "      <td>R</td>\n",
              "      <td>81</td>\n",
              "      <td>5</td>\n",
              "      <td>2.0</td>\n",
              "      <td>30</td>\n",
              "      <td>0.0</td>\n",
              "      <td>1664</td>\n",
              "      <td>0.679</td>\n",
              "      <td>1.055</td>\n",
              "      <td>NaN</td>\n",
              "      <td>3557</td>\n",
              "      <td>3495</td>\n",
              "      <td>0</td>\n",
              "      <td>0</td>\n",
              "    </tr>\n",
              "  </tbody>\n",
              "</table>\n",
              "</div>\n",
              "      <button class=\"colab-df-convert\" onclick=\"convertToInteractive('df-e413e144-d9af-41f2-a4f2-90dab07f7139')\"\n",
              "              title=\"Convert this dataframe to an interactive table.\"\n",
              "              style=\"display:none;\">\n",
              "        \n",
              "  <svg xmlns=\"http://www.w3.org/2000/svg\" height=\"24px\"viewBox=\"0 0 24 24\"\n",
              "       width=\"24px\">\n",
              "    <path d=\"M0 0h24v24H0V0z\" fill=\"none\"/>\n",
              "    <path d=\"M18.56 5.44l.94 2.06.94-2.06 2.06-.94-2.06-.94-.94-2.06-.94 2.06-2.06.94zm-11 1L8.5 8.5l.94-2.06 2.06-.94-2.06-.94L8.5 2.5l-.94 2.06-2.06.94zm10 10l.94 2.06.94-2.06 2.06-.94-2.06-.94-.94-2.06-.94 2.06-2.06.94z\"/><path d=\"M17.41 7.96l-1.37-1.37c-.4-.4-.92-.59-1.43-.59-.52 0-1.04.2-1.43.59L10.3 9.45l-7.72 7.72c-.78.78-.78 2.05 0 2.83L4 21.41c.39.39.9.59 1.41.59.51 0 1.02-.2 1.41-.59l7.78-7.78 2.81-2.81c.8-.78.8-2.07 0-2.86zM5.41 20L4 18.59l7.72-7.72 1.47 1.35L5.41 20z\"/>\n",
              "  </svg>\n",
              "      </button>\n",
              "      \n",
              "  <style>\n",
              "    .colab-df-container {\n",
              "      display:flex;\n",
              "      flex-wrap:wrap;\n",
              "      gap: 12px;\n",
              "    }\n",
              "\n",
              "    .colab-df-convert {\n",
              "      background-color: #E8F0FE;\n",
              "      border: none;\n",
              "      border-radius: 50%;\n",
              "      cursor: pointer;\n",
              "      display: none;\n",
              "      fill: #1967D2;\n",
              "      height: 32px;\n",
              "      padding: 0 0 0 0;\n",
              "      width: 32px;\n",
              "    }\n",
              "\n",
              "    .colab-df-convert:hover {\n",
              "      background-color: #E2EBFA;\n",
              "      box-shadow: 0px 1px 2px rgba(60, 64, 67, 0.3), 0px 1px 3px 1px rgba(60, 64, 67, 0.15);\n",
              "      fill: #174EA6;\n",
              "    }\n",
              "\n",
              "    [theme=dark] .colab-df-convert {\n",
              "      background-color: #3B4455;\n",
              "      fill: #D2E3FC;\n",
              "    }\n",
              "\n",
              "    [theme=dark] .colab-df-convert:hover {\n",
              "      background-color: #434B5C;\n",
              "      box-shadow: 0px 1px 3px 1px rgba(0, 0, 0, 0.15);\n",
              "      filter: drop-shadow(0px 1px 2px rgba(0, 0, 0, 0.3));\n",
              "      fill: #FFFFFF;\n",
              "    }\n",
              "  </style>\n",
              "\n",
              "      <script>\n",
              "        const buttonEl =\n",
              "          document.querySelector('#df-e413e144-d9af-41f2-a4f2-90dab07f7139 button.colab-df-convert');\n",
              "        buttonEl.style.display =\n",
              "          google.colab.kernel.accessAllowed ? 'block' : 'none';\n",
              "\n",
              "        async function convertToInteractive(key) {\n",
              "          const element = document.querySelector('#df-e413e144-d9af-41f2-a4f2-90dab07f7139');\n",
              "          const dataTable =\n",
              "            await google.colab.kernel.invokeFunction('convertToInteractive',\n",
              "                                                     [key], {});\n",
              "          if (!dataTable) return;\n",
              "\n",
              "          const docLinkHtml = 'Like what you see? Visit the ' +\n",
              "            '<a target=\"_blank\" href=https://colab.research.google.com/notebooks/data_table.ipynb>data table notebook</a>'\n",
              "            + ' to learn more about interactive tables.';\n",
              "          element.innerHTML = '';\n",
              "          dataTable['output_type'] = 'display_data';\n",
              "          await google.colab.output.renderOutput(dataTable, element);\n",
              "          const docLink = document.createElement('div');\n",
              "          docLink.innerHTML = docLinkHtml;\n",
              "          element.appendChild(docLink);\n",
              "        }\n",
              "      </script>\n",
              "    </div>\n",
              "  </div>\n",
              "  "
            ]
          },
          "metadata": {},
          "execution_count": 2
        }
      ]
    },
    {
      "cell_type": "code",
      "source": [
        "corr_matrix=oasis.corr()\n",
        "corr_matrix[\"Dementia\"].sort_values(ascending=False)"
      ],
      "metadata": {
        "colab": {
          "base_uri": "https://localhost:8080/"
        },
        "id": "mgLXY09qZ5FG",
        "outputId": "4bd3ac3c-9b2e-438f-80f5-44280ff2bf2a"
      },
      "execution_count": null,
      "outputs": [
        {
          "output_type": "execute_result",
          "data": {
            "text/plain": [
              "Dementia         1.000000\n",
              "CDR              0.863753\n",
              "Age              0.317417\n",
              "SES              0.202073\n",
              "eTIV             0.135532\n",
              "TrainData       -0.005295\n",
              "Unnamed: 0      -0.006568\n",
              "ASF             -0.135690\n",
              "Educ            -0.251454\n",
              "LeftHippoVol    -0.483933\n",
              "nWBV            -0.499166\n",
              "RightHippoVol   -0.508445\n",
              "MMSE            -0.638755\n",
              "Delay                 NaN\n",
              "Name: Dementia, dtype: float64"
            ]
          },
          "metadata": {},
          "execution_count": 3
        }
      ]
    },
    {
      "cell_type": "code",
      "source": [
        "oasis=oasis.drop([\"Delay\", \"M.F\",\"ID\",\"Hand\",\"CDR\",\"Age\"],axis=1)\n",
        "oasis.head()"
      ],
      "metadata": {
        "colab": {
          "base_uri": "https://localhost:8080/",
          "height": 206
        },
        "id": "WjHLqJn9Qv3n",
        "outputId": "aeb3bf29-31e8-4166-9d3f-0b26ef1292e8"
      },
      "execution_count": null,
      "outputs": [
        {
          "output_type": "execute_result",
          "data": {
            "text/plain": [
              "   Unnamed: 0  Educ  SES  MMSE  eTIV   nWBV    ASF  RightHippoVol  \\\n",
              "0           1     4  1.0    29  1147  0.810  1.531           4230   \n",
              "1           2     4  3.0    27  1454  0.708  1.207           2896   \n",
              "2           7     5  2.0    30  1636  0.689  1.073           2832   \n",
              "3           8     3  2.0    30  1321  0.827  1.329           3978   \n",
              "4          10     5  2.0    30  1664  0.679  1.055           3557   \n",
              "\n",
              "   LeftHippoVol  TrainData  Dementia  \n",
              "0          3807          0         0  \n",
              "1          2801          1         1  \n",
              "2          2578          0         0  \n",
              "3          4080          0         0  \n",
              "4          3495          0         0  "
            ],
            "text/html": [
              "\n",
              "  <div id=\"df-3772d3e1-4959-4c35-95ac-8f5e44ebe17a\">\n",
              "    <div class=\"colab-df-container\">\n",
              "      <div>\n",
              "<style scoped>\n",
              "    .dataframe tbody tr th:only-of-type {\n",
              "        vertical-align: middle;\n",
              "    }\n",
              "\n",
              "    .dataframe tbody tr th {\n",
              "        vertical-align: top;\n",
              "    }\n",
              "\n",
              "    .dataframe thead th {\n",
              "        text-align: right;\n",
              "    }\n",
              "</style>\n",
              "<table border=\"1\" class=\"dataframe\">\n",
              "  <thead>\n",
              "    <tr style=\"text-align: right;\">\n",
              "      <th></th>\n",
              "      <th>Unnamed: 0</th>\n",
              "      <th>Educ</th>\n",
              "      <th>SES</th>\n",
              "      <th>MMSE</th>\n",
              "      <th>eTIV</th>\n",
              "      <th>nWBV</th>\n",
              "      <th>ASF</th>\n",
              "      <th>RightHippoVol</th>\n",
              "      <th>LeftHippoVol</th>\n",
              "      <th>TrainData</th>\n",
              "      <th>Dementia</th>\n",
              "    </tr>\n",
              "  </thead>\n",
              "  <tbody>\n",
              "    <tr>\n",
              "      <th>0</th>\n",
              "      <td>1</td>\n",
              "      <td>4</td>\n",
              "      <td>1.0</td>\n",
              "      <td>29</td>\n",
              "      <td>1147</td>\n",
              "      <td>0.810</td>\n",
              "      <td>1.531</td>\n",
              "      <td>4230</td>\n",
              "      <td>3807</td>\n",
              "      <td>0</td>\n",
              "      <td>0</td>\n",
              "    </tr>\n",
              "    <tr>\n",
              "      <th>1</th>\n",
              "      <td>2</td>\n",
              "      <td>4</td>\n",
              "      <td>3.0</td>\n",
              "      <td>27</td>\n",
              "      <td>1454</td>\n",
              "      <td>0.708</td>\n",
              "      <td>1.207</td>\n",
              "      <td>2896</td>\n",
              "      <td>2801</td>\n",
              "      <td>1</td>\n",
              "      <td>1</td>\n",
              "    </tr>\n",
              "    <tr>\n",
              "      <th>2</th>\n",
              "      <td>7</td>\n",
              "      <td>5</td>\n",
              "      <td>2.0</td>\n",
              "      <td>30</td>\n",
              "      <td>1636</td>\n",
              "      <td>0.689</td>\n",
              "      <td>1.073</td>\n",
              "      <td>2832</td>\n",
              "      <td>2578</td>\n",
              "      <td>0</td>\n",
              "      <td>0</td>\n",
              "    </tr>\n",
              "    <tr>\n",
              "      <th>3</th>\n",
              "      <td>8</td>\n",
              "      <td>3</td>\n",
              "      <td>2.0</td>\n",
              "      <td>30</td>\n",
              "      <td>1321</td>\n",
              "      <td>0.827</td>\n",
              "      <td>1.329</td>\n",
              "      <td>3978</td>\n",
              "      <td>4080</td>\n",
              "      <td>0</td>\n",
              "      <td>0</td>\n",
              "    </tr>\n",
              "    <tr>\n",
              "      <th>4</th>\n",
              "      <td>10</td>\n",
              "      <td>5</td>\n",
              "      <td>2.0</td>\n",
              "      <td>30</td>\n",
              "      <td>1664</td>\n",
              "      <td>0.679</td>\n",
              "      <td>1.055</td>\n",
              "      <td>3557</td>\n",
              "      <td>3495</td>\n",
              "      <td>0</td>\n",
              "      <td>0</td>\n",
              "    </tr>\n",
              "  </tbody>\n",
              "</table>\n",
              "</div>\n",
              "      <button class=\"colab-df-convert\" onclick=\"convertToInteractive('df-3772d3e1-4959-4c35-95ac-8f5e44ebe17a')\"\n",
              "              title=\"Convert this dataframe to an interactive table.\"\n",
              "              style=\"display:none;\">\n",
              "        \n",
              "  <svg xmlns=\"http://www.w3.org/2000/svg\" height=\"24px\"viewBox=\"0 0 24 24\"\n",
              "       width=\"24px\">\n",
              "    <path d=\"M0 0h24v24H0V0z\" fill=\"none\"/>\n",
              "    <path d=\"M18.56 5.44l.94 2.06.94-2.06 2.06-.94-2.06-.94-.94-2.06-.94 2.06-2.06.94zm-11 1L8.5 8.5l.94-2.06 2.06-.94-2.06-.94L8.5 2.5l-.94 2.06-2.06.94zm10 10l.94 2.06.94-2.06 2.06-.94-2.06-.94-.94-2.06-.94 2.06-2.06.94z\"/><path d=\"M17.41 7.96l-1.37-1.37c-.4-.4-.92-.59-1.43-.59-.52 0-1.04.2-1.43.59L10.3 9.45l-7.72 7.72c-.78.78-.78 2.05 0 2.83L4 21.41c.39.39.9.59 1.41.59.51 0 1.02-.2 1.41-.59l7.78-7.78 2.81-2.81c.8-.78.8-2.07 0-2.86zM5.41 20L4 18.59l7.72-7.72 1.47 1.35L5.41 20z\"/>\n",
              "  </svg>\n",
              "      </button>\n",
              "      \n",
              "  <style>\n",
              "    .colab-df-container {\n",
              "      display:flex;\n",
              "      flex-wrap:wrap;\n",
              "      gap: 12px;\n",
              "    }\n",
              "\n",
              "    .colab-df-convert {\n",
              "      background-color: #E8F0FE;\n",
              "      border: none;\n",
              "      border-radius: 50%;\n",
              "      cursor: pointer;\n",
              "      display: none;\n",
              "      fill: #1967D2;\n",
              "      height: 32px;\n",
              "      padding: 0 0 0 0;\n",
              "      width: 32px;\n",
              "    }\n",
              "\n",
              "    .colab-df-convert:hover {\n",
              "      background-color: #E2EBFA;\n",
              "      box-shadow: 0px 1px 2px rgba(60, 64, 67, 0.3), 0px 1px 3px 1px rgba(60, 64, 67, 0.15);\n",
              "      fill: #174EA6;\n",
              "    }\n",
              "\n",
              "    [theme=dark] .colab-df-convert {\n",
              "      background-color: #3B4455;\n",
              "      fill: #D2E3FC;\n",
              "    }\n",
              "\n",
              "    [theme=dark] .colab-df-convert:hover {\n",
              "      background-color: #434B5C;\n",
              "      box-shadow: 0px 1px 3px 1px rgba(0, 0, 0, 0.15);\n",
              "      filter: drop-shadow(0px 1px 2px rgba(0, 0, 0, 0.3));\n",
              "      fill: #FFFFFF;\n",
              "    }\n",
              "  </style>\n",
              "\n",
              "      <script>\n",
              "        const buttonEl =\n",
              "          document.querySelector('#df-3772d3e1-4959-4c35-95ac-8f5e44ebe17a button.colab-df-convert');\n",
              "        buttonEl.style.display =\n",
              "          google.colab.kernel.accessAllowed ? 'block' : 'none';\n",
              "\n",
              "        async function convertToInteractive(key) {\n",
              "          const element = document.querySelector('#df-3772d3e1-4959-4c35-95ac-8f5e44ebe17a');\n",
              "          const dataTable =\n",
              "            await google.colab.kernel.invokeFunction('convertToInteractive',\n",
              "                                                     [key], {});\n",
              "          if (!dataTable) return;\n",
              "\n",
              "          const docLinkHtml = 'Like what you see? Visit the ' +\n",
              "            '<a target=\"_blank\" href=https://colab.research.google.com/notebooks/data_table.ipynb>data table notebook</a>'\n",
              "            + ' to learn more about interactive tables.';\n",
              "          element.innerHTML = '';\n",
              "          dataTable['output_type'] = 'display_data';\n",
              "          await google.colab.output.renderOutput(dataTable, element);\n",
              "          const docLink = document.createElement('div');\n",
              "          docLink.innerHTML = docLinkHtml;\n",
              "          element.appendChild(docLink);\n",
              "        }\n",
              "      </script>\n",
              "    </div>\n",
              "  </div>\n",
              "  "
            ]
          },
          "metadata": {},
          "execution_count": 4
        }
      ]
    },
    {
      "cell_type": "markdown",
      "source": [
        "### Plotting 2D scatter"
      ],
      "metadata": {
        "id": "DZc-PHOKtrEx"
      }
    },
    {
      "cell_type": "code",
      "source": [
        "import matplotlib.pyplot as plt\n",
        "healthy = oasis[oasis['Dementia'] == 0]\n",
        "dementia = oasis[oasis['Dementia'] == 1]\n",
        "\n",
        "right_healthy, left_healthy = healthy['RightHippoVol'], healthy['LeftHippoVol']\n",
        "right_dementia, left_dementia = dementia['RightHippoVol'], dementia['LeftHippoVol']\n",
        "\n",
        "plt.scatter(right_healthy, left_healthy, color='red', label='healthy')\n",
        "plt.scatter(right_dementia, left_dementia, color='green', label='dementia')\n",
        "\n",
        "plt.xlabel('Right Hippocampal Volume')\n",
        "plt.ylabel('Left Hippocampal Volume')\n",
        "plt.legend()\n",
        "plt.show()\n"
      ],
      "metadata": {
        "id": "RRJ8CVeexsUd",
        "colab": {
          "base_uri": "https://localhost:8080/",
          "height": 279
        },
        "outputId": "5ece6036-8c61-4c22-b60e-3b3210eed83d"
      },
      "execution_count": null,
      "outputs": [
        {
          "output_type": "display_data",
          "data": {
            "text/plain": [
              "<Figure size 432x288 with 1 Axes>"
            ],
            "image/png": "[encoded data removed]"
          },
          "metadata": {
            "needs_background": "light"
          }
        }
      ]
    },
    {
      "cell_type": "markdown",
      "source": [
        "### Right Density Plot"
      ],
      "metadata": {
        "id": "qXnwiJ7i0VvE"
      }
    },
    {
      "cell_type": "code",
      "source": [
        "import seaborn as sns\n",
        "\n",
        "sns.kdeplot(right_healthy, shade=True, label='healthy',color=\"green\")\n",
        "sns.kdeplot(right_dementia, shade=True, label='dementia',color=\"red\")\n",
        "\n",
        "plt.title('Density Plot of Right Hippocampus Volume by Class')\n",
        "plt.xlabel('Right Hippocampus Volume')\n",
        "plt.ylabel('Density')\n",
        "plt.legend()\n"
      ],
      "metadata": {
        "colab": {
          "base_uri": "https://localhost:8080/",
          "height": 312
        },
        "id": "znsjSPTIxiHp",
        "outputId": "1051b64e-8836-4167-91df-2cd5b0c95d19"
      },
      "execution_count": null,
      "outputs": [
        {
          "output_type": "execute_result",
          "data": {
            "text/plain": [
              "<matplotlib.legend.Legend at 0x7fd428e67bb0>"
            ]
          },
          "metadata": {},
          "execution_count": 6
        },
        {
          "output_type": "display_data",
          "data": {
            "text/plain": [
              "<Figure size 432x288 with 1 Axes>"
            ],
            "image/png": "[encoded data removed]"
          },
          "metadata": {
            "needs_background": "light"
          }
        }
      ]
    },
    {
      "cell_type": "markdown",
      "source": [
        "### Left Density Plot"
      ],
      "metadata": {
        "id": "U_koN_8W0bVW"
      }
    },
    {
      "cell_type": "code",
      "source": [
        "sns.kdeplot(left_healthy, shade=True, label='healthy',color=\"green\")\n",
        "sns.kdeplot(left_dementia, shade=True, label='dementia',color=\"red\")\n",
        "\n",
        "plt.title('Density Plot of Left Hippocampus Volume by Class')\n",
        "plt.xlabel('Left Hippocampus Volume')\n",
        "plt.ylabel('Density')\n",
        "plt.legend()"
      ],
      "metadata": {
        "colab": {
          "base_uri": "https://localhost:8080/",
          "height": 312
        },
        "id": "YGjw0pq60hRJ",
        "outputId": "66a9a1dd-a012-4e53-b802-be480c5b3bc7"
      },
      "execution_count": null,
      "outputs": [
        {
          "output_type": "execute_result",
          "data": {
            "text/plain": [
              "<matplotlib.legend.Legend at 0x7fd41f0e86a0>"
            ]
          },
          "metadata": {},
          "execution_count": 7
        },
        {
          "output_type": "display_data",
          "data": {
            "text/plain": [
              "<Figure size 432x288 with 1 Axes>"
            ],
            "image/png": "[encoded data removed]"
          },
          "metadata": {
            "needs_background": "light"
          }
        }
      ]
    },
    {
      "cell_type": "markdown",
      "source": [
        "### Implementing Naive Bayes"
      ],
      "metadata": {
        "id": "cv3lAZ4C2SCe"
      }
    },
    {
      "cell_type": "code",
      "source": [
        "from sklearn.model_selection import train_test_split\n",
        "\n",
        "train_set, test_set = train_test_split(oasis, test_size=0.25, random_state=42)\n",
        "\n",
        "X_train = train_set.drop(\"Dementia\",axis=1);\n",
        "y_train = train_set[\"Dementia\"].copy();\n",
        "\n",
        "X_test= test_set.drop(\"Dementia\",axis=1)\n",
        "y_test= test_set[\"Dementia\"].copy()\n",
        "\n",
        "print(X_train.shape)\n",
        "print(y_train.shape)\n",
        "print(X_test.shape)\n",
        "print(y_test.shape)\n"
      ],
      "metadata": {
        "id": "QiB3v2tq8kNu",
        "colab": {
          "base_uri": "https://localhost:8080/"
        },
        "outputId": "6a7f9e4a-b31a-4734-ffe1-a71a56b123fe"
      },
      "execution_count": null,
      "outputs": [
        {
          "output_type": "stream",
          "name": "stdout",
          "text": [
            "(168, 10)\n",
            "(168,)\n",
            "(57, 10)\n",
            "(57,)\n"
          ]
        }
      ]
    },
    {
      "cell_type": "code",
      "source": [
        "import math\n",
        "class NaiveBayes:\n",
        "    def fit(self, X_train, y_train):\n",
        "\n",
        "        n_samples, n_features = X_train.shape\n",
        "        self.classes = np.unique(y_train) \n",
        "        n_classes = len(self.classes) \n",
        "\n",
        "        self.mean = np.zeros((n_classes, n_features)) \n",
        "        self.var = np.zeros((n_classes, n_features))\n",
        "        self.priors = np.zeros(n_classes) \n",
        "         \n",
        "\n",
        "        for i, c in enumerate(self.classes):\n",
        "            X_c = X_train[y_train == c]\n",
        "            self.mean[i, :] = X_c.mean(axis=0)\n",
        "            self.var[i, :] = X_c.var(axis=0)\n",
        "            self.priors[i] = X_c.shape[0] /(n_samples)\n",
        "\n",
        "    def predict_class(self, x):\n",
        "        posteriors = []\n",
        "\n",
        "        for i, c in enumerate(self.classes):\n",
        "            prior = np.log(self.priors[i])\n",
        "            posterior = np.sum(np.log(self.pdf(i, x)))\n",
        "            posterior = prior + posterior\n",
        "            posteriors.append(posterior)\n",
        "\n",
        "        return self.classes[np.argmax(posteriors)]\n",
        "\n",
        "    def predict(self, X_test):\n",
        "        y_pred = [self.predict_class(x) for x in X_test]\n",
        "        res= np.array(y_pred)\n",
        "        return res   \n",
        "\n",
        "    def pdf(self, i, x):\n",
        "        mean = self.mean[i]\n",
        "        var = self.var[i]\n",
        "        sd= np.sqrt(var)\n",
        "        pdf = (1/(sd*np.sqrt(2*math.pi)))* np.exp((-(x-mean)**2)/(2*var))\n",
        "        return pdf"
      ],
      "metadata": {
        "id": "nT4z3poE12Mg"
      },
      "execution_count": null,
      "outputs": []
    },
    {
      "cell_type": "code",
      "source": [
        "my_classifier= NaiveBayes()\n",
        "my_classifier.fit(X_train,y_train)\n",
        "predictions = my_classifier.predict(X_test.to_numpy())\n",
        "\n",
        "print(\"Accuracy:\",100*np.sum(y_test == predictions) / len(y_test), \"%\")\n"
      ],
      "metadata": {
        "colab": {
          "base_uri": "https://localhost:8080/"
        },
        "id": "9fV63J2mQU8B",
        "outputId": "44373041-9987-467b-e99a-ede17ec6b6f3"
      },
      "execution_count": null,
      "outputs": [
        {
          "output_type": "stream",
          "name": "stdout",
          "text": [
            "Accuracy: 77.19298245614036 %\n"
          ]
        }
      ]
    }
  ]
}