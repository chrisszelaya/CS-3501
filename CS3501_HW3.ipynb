{
  "nbformat": 4,
  "nbformat_minor": 0,
  "metadata": {
    "colab": {
      "provenance": [],
      "authorship_tag": "ABX9TyNW5t8ZfDFl1OJpEVBVZpdT",
      "include_colab_link": true
    },
    "kernelspec": {
      "name": "python3",
      "display_name": "Python 3"
    },
    "language_info": {
      "name": "python"
    }
  },
  "cells": [
    {
      "cell_type": "markdown",
      "metadata": {
        "id": "view-in-github",
        "colab_type": "text"
      },
      "source": [
        "<a href=\"https://colab.research.google.com/github/chrisszelaya/CS-3501/blob/main/CS3501_HW3.ipynb\" target=\"_parent\"><img src=\"https://colab.research.google.com/assets/colab-badge.svg\" alt=\"Open In Colab\"/></a>"
      ]
    },
    {
      "cell_type": "markdown",
      "source": [
        "# Problem 1 \n",
        "\n",
        "In this problem you are going to use SVD to compute an optimal rotation matrix to\n",
        "align two shapes. This is known as the Orthogonal Procustes Problem (see more here:\n",
        "https://en.wikipedia.org/wiki/Orthogonal_Procrustes_problem).\n",
        "Load the two matrices hand1.dat and hand2.dat. They are x and y coordinates of points of\n",
        "two hand shape outlines. Each row is a point, and there are 72 points, giving you two 72 × 2\n",
        "matrices, A1 and A2. Now the optimal rotation that aligns hand shape 2 (A2) with hand\n",
        "shape 1 (A1) with the following steps:\n",
        "• Create the matrix AT\n",
        "1 A2.\n",
        "\n",
        "• Compute the SVD: USV T = AT\n",
        "1 A2.\n",
        "\n",
        "• The optimal rotation is R = UV T\n",
        "\n",
        "Do the following:\n",
        "\n",
        "(a) Plot the two hand shapes by connecting consecutive points with line segments. (You\n",
        "might want to use two different colors for the two hands.)\n",
        "\n",
        "(b) Perform the steps outlined above to find the optimal rotation that aligns hand 2 into\n",
        "hand 1. What is the angle of rotation between these two hands?\n",
        "\n",
        "(c) Rotate hand 2 using the optimal rotation you found. Plot the two hands again (this\n",
        "time with hand 2 rotated). Do they align with each other?"
      ],
      "metadata": {
        "id": "mZLtESB0R9De"
      }
    },
    {
      "cell_type": "code",
      "source": [
        "import pandas as pd \n",
        "import numpy as np\n",
        "import matplotlib.pyplot as plt\n",
        "\n",
        "A1= pd.read_csv('hand1.dat', sep=',', header=None) ## 72 x 2 \n",
        "A2=pd.read_csv('hand2.dat', sep=',', header=None) ## 72 x 2\n",
        "A1.rename(columns={0:\"x\",1:\"y\"})\n",
        "A2.rename(columns={0:\"x\",1:\"y\"})\n",
        "plt.plot(A1[0], A1[1], 'b-')\n",
        "plt.plot(A2[0], A2[1], 'r-')\n",
        "\n",
        "\n",
        "\n",
        "\n",
        "\n",
        "\n"
      ],
      "metadata": {
        "colab": {
          "base_uri": "https://localhost:8080/",
          "height": 282
        },
        "id": "_8slSjbu3IRo",
        "outputId": "0a699b2a-aef0-4022-be3c-a0b68417cd49"
      },
      "execution_count": null,
      "outputs": [
        {
          "output_type": "execute_result",
          "data": {
            "text/plain": [
              "[<matplotlib.lines.Line2D at 0x7f7555be8fd0>]"
            ]
          },
          "metadata": {},
          "execution_count": 1
        },
        {
          "output_type": "display_data",
          "data": {
            "text/plain": [
              "<Figure size 432x288 with 1 Axes>"
            ],
            "image/png": "[encoded data removed]"
          },
          "metadata": {
            "needs_background": "light"
          }
        }
      ]
    },
    {
      "cell_type": "code",
      "source": [
        "A1_T_A2= np.dot(A2.T,A1) ## 2 x 72 dot 72 x 2 \n",
        "\n",
        "U, S, Vt = np.linalg.svd(A1_T_A2)\n",
        "\n",
        "R= np.dot(U,Vt)\n",
        "\n",
        "theta = np.arccos((np.trace(R) - 1) / 2)\n",
        "theta_degrees = np.degrees(theta)\n",
        "print(theta_degrees)"
      ],
      "metadata": {
        "colab": {
          "base_uri": "https://localhost:8080/"
        },
        "id": "cVN4IAEkJ-yB",
        "outputId": "5ff68185-4464-4510-8969-01ab12b6bff8"
      },
      "execution_count": null,
      "outputs": [
        {
          "output_type": "stream",
          "name": "stdout",
          "text": [
            "72.1376301004281\n"
          ]
        }
      ]
    },
    {
      "cell_type": "code",
      "source": [
        "A2_rotated = np.dot(A2, R)\n",
        "A2_rotated= pd.DataFrame(A2_rotated)\n",
        "\n",
        "plt.plot(A1[0],A1[1], 'b-')\n",
        "plt.plot(A2_rotated[0],A2_rotated[1],'r')"
      ],
      "metadata": {
        "colab": {
          "base_uri": "https://localhost:8080/",
          "height": 282
        },
        "id": "lVgTjXeAueu-",
        "outputId": "a040fc00-9cf8-413b-89b0-f7cbf551005b"
      },
      "execution_count": null,
      "outputs": [
        {
          "output_type": "execute_result",
          "data": {
            "text/plain": [
              "[<matplotlib.lines.Line2D at 0x7f7549edcf10>]"
            ]
          },
          "metadata": {},
          "execution_count": 22
        },
        {
          "output_type": "display_data",
          "data": {
            "text/plain": [
              "<Figure size 432x288 with 1 Axes>"
            ],
            "image/png": "[encoded data removed]"
          },
          "metadata": {
            "needs_background": "light"
          }
        }
      ]
    },
    {
      "cell_type": "markdown",
      "source": [
        "# Problem 2\n",
        "\n",
        "In this problem we will be analyzing data from the Old Faithful geyser in Yellowstone National Park. (See https://en.wikipedia.org/wiki/Old_Faithful to learn more!)\n",
        "Download the provided CSV data (faithful.csv), which consists of two variables: the duration of eruptions in minutes (eruptions column) and the length of time until the next\n",
        "eruption (waiting column). Hint: The function numpy.asarray() can convert a pandas\n",
        "column into a numpy array.\n",
        "\n",
        "(a) Load the eruptions column as your x variable and the waiting column as your y\n",
        "variable. Plot the data with a scatter plot. Do you think there is a relationship between\n",
        "eruption time and waiting time?\n",
        "\n",
        "(b) What is the mean of the eruption time? What is the mean of the waiting time? Use\n",
        "these values to center your x and y data.\n",
        "\n",
        "(c) Using the dot product formula we discussed in class, compute the correlation of eruption\n",
        "and waiting time. Does the value (and sign) of the correlation match what you would\n",
        "expect from the plot?\n",
        "\n",
        "(d) Using the formulas from lecture for ˆα and βˆ, compute the intercept and slope for a linear\n",
        "regression. Now plot a scatterplot with your regression line on top of it. How does the\n",
        "value and the sign of the slope compare to the correlation?\n",
        "\n",
        "(e) Say you are watching the Old Faithful geyser, and you time an eruption to be 2.2\n",
        "minutes. Based on your regression analysis, how long should you expect to wait for the\n",
        "next eruption?\n",
        "\n",
        "(f) Using the formula for the R2\n",
        "statistic from class, what is the proportion of variance\n",
        "explained by your regression?\n"
      ],
      "metadata": {
        "id": "EK7-sRU32yG9"
      }
    },
    {
      "cell_type": "markdown",
      "source": [
        "## Part a "
      ],
      "metadata": {
        "id": "FLzbGMOT2_lK"
      }
    },
    {
      "cell_type": "code",
      "execution_count": null,
      "metadata": {
        "colab": {
          "base_uri": "https://localhost:8080/",
          "height": 296
        },
        "id": "8fITiUoJ2Yfy",
        "outputId": "4c91961a-35c2-40eb-ba13-9f40b78b261b"
      },
      "outputs": [
        {
          "output_type": "execute_result",
          "data": {
            "text/plain": [
              "Text(0, 0.5, 'waiting')"
            ]
          },
          "metadata": {},
          "execution_count": 26
        },
        {
          "output_type": "display_data",
          "data": {
            "text/plain": [
              "<Figure size 432x288 with 1 Axes>"
            ],
            "image/png": "[encoded data removed]"
          },
          "metadata": {
            "needs_background": "light"
          }
        }
      ],
      "source": [
        "faithful = pd.read_csv(\"faithful.csv\")\n",
        "\n",
        "X= np.asarray(faithful[\"eruptions\"])\n",
        "\n",
        "Y=np.asarray(faithful[\"waiting\"])\n",
        "\n",
        "plt.scatter(X,Y)\n",
        "plt.xlabel(\"eruptions\")\n",
        "plt.ylabel(\"waiting\")"
      ]
    },
    {
      "cell_type": "markdown",
      "source": [
        "I think there is a relationship between the waiting time and eruption time. Longer eruption times result into larger waiting times."
      ],
      "metadata": {
        "id": "yrUfAD4v43X8"
      }
    },
    {
      "cell_type": "markdown",
      "source": [
        "## Part b "
      ],
      "metadata": {
        "id": "SgElI6_7IvDq"
      }
    },
    {
      "cell_type": "code",
      "source": [
        "eruption_mean= X.mean()\n",
        "waiting_mean = Y.mean()\n",
        "print(\"Eruption Time Mean: \", eruption_mean)\n",
        "print(\"Waiting Time Mean: \", waiting_mean)\n",
        "\n",
        "## Centering Data\n",
        "X_centered= X - eruption_mean\n",
        "Y_centered= Y- waiting_mean"
      ],
      "metadata": {
        "colab": {
          "base_uri": "https://localhost:8080/"
        },
        "id": "Orh3-BkZ5IdX",
        "outputId": "e883bc43-02e3-4991-a5fe-7c1b75a24e69"
      },
      "execution_count": null,
      "outputs": [
        {
          "output_type": "stream",
          "name": "stdout",
          "text": [
            "Eruption Time Mean:  3.4877830882352936\n",
            "Waiting Time Mean:  70.8970588235294\n"
          ]
        }
      ]
    },
    {
      "cell_type": "markdown",
      "source": [
        "## Part c "
      ],
      "metadata": {
        "id": "FypWttUrIzWC"
      }
    },
    {
      "cell_type": "code",
      "source": [
        "## Finding correlation(x,y)\n",
        "import math\n",
        "\n",
        "dot_product = X_centered.dot(Y_centered)\n",
        "\n",
        "mag_X= np.linalg.norm(X_centered)\n",
        "mag_Y = np.linalg.norm(Y_centered)\n",
        "\n",
        "corr = dot_product / (mag_X * mag_Y) \n",
        "\n",
        "print(\"Correlation:\", corr)"
      ],
      "metadata": {
        "colab": {
          "base_uri": "https://localhost:8080/"
        },
        "id": "QvsggQDT6dc-",
        "outputId": "06733d6d-477f-4b33-b56a-a80d75728698"
      },
      "execution_count": null,
      "outputs": [
        {
          "output_type": "stream",
          "name": "stdout",
          "text": [
            "Correlation: 0.900811168321813\n"
          ]
        }
      ]
    },
    {
      "cell_type": "markdown",
      "source": [
        "The correlation of .90 does match my expected value since the variables seem to be going in a postive direction and appears to be strongly correlated. The sign also matches since the correlation is in the positive direction."
      ],
      "metadata": {
        "id": "H0BUxuqA_5R3"
      }
    },
    {
      "cell_type": "markdown",
      "source": [
        "## Part d "
      ],
      "metadata": {
        "id": "Z57fs2JkI1Vu"
      }
    },
    {
      "cell_type": "markdown",
      "source": [
        "### Calculating Alpha and Beta"
      ],
      "metadata": {
        "id": "YZLCMDnhARx-"
      }
    },
    {
      "cell_type": "code",
      "source": [
        "from sklearn.linear_model import LinearRegression\n",
        "\n",
        "B = dot_product / (mag_X*mag_X)\n",
        "## a = y-Bx\n",
        "a = waiting_mean - (B*eruption_mean)\n",
        "\n",
        "line = a + B*X\n",
        "\n",
        "plt.scatter(X,Y)\n",
        "plt.plot(X,line,color=\"red\")\n",
        "plt.xlabel(\"eruption\")\n",
        "plt.ylabel(\"waiting\")\n",
        "plt.show()\n",
        "\n",
        "print(\"Slope :\" , B)\n",
        "print(\"Intercept :\" , a)\n",
        "print(\"Correlation :\" , corr)\n"
      ],
      "metadata": {
        "colab": {
          "base_uri": "https://localhost:8080/",
          "height": 331
        },
        "id": "B6GplwmWAOps",
        "outputId": "661dde79-8288-43da-ff33-1580247c548e"
      },
      "execution_count": null,
      "outputs": [
        {
          "output_type": "display_data",
          "data": {
            "text/plain": [
              "<Figure size 432x288 with 1 Axes>"
            ],
            "image/png": "[encoded data removed]"
          },
          "metadata": {
            "needs_background": "light"
          }
        },
        {
          "output_type": "stream",
          "name": "stdout",
          "text": [
            "Slope : 10.729641395133525\n",
            "Intercept : 33.47439702275336\n",
            "Correlation : 0.900811168321813\n"
          ]
        }
      ]
    },
    {
      "cell_type": "markdown",
      "source": [
        "The value of the slope shows a large increase and it is positive which compares well to our strong and positve value for the correlations. Overall , our slope and correlation values make sense."
      ],
      "metadata": {
        "id": "k3MAWk0-Ibzg"
      }
    },
    {
      "cell_type": "markdown",
      "source": [
        "## Part e"
      ],
      "metadata": {
        "id": "RplwbeP2JGRL"
      }
    },
    {
      "cell_type": "code",
      "source": [
        "def predict(slope , alpha, X):\n",
        "  y_pred = slope*X + alpha \n",
        "  return y_pred\n",
        "prediction = predict(B, a , 2.2)\n",
        "print(\"Predicted wait time with an eruption time of 2.2 minutes:\", prediction)\n",
        "\n"
      ],
      "metadata": {
        "colab": {
          "base_uri": "https://localhost:8080/"
        },
        "id": "CdB-P7psJISQ",
        "outputId": "53a71dbc-f323-4a42-88c4-f10ad7b96ed9"
      },
      "execution_count": null,
      "outputs": [
        {
          "output_type": "stream",
          "name": "stdout",
          "text": [
            "Predicted wait time with an eruption time of 2.2 minutes: 57.07960809204711\n"
          ]
        }
      ]
    },
    {
      "cell_type": "markdown",
      "source": [
        "If an eruption of 2.2 minutes happen we should expect to wait 57.08 minutes for the next."
      ],
      "metadata": {
        "id": "ITlWX46PJpnX"
      }
    },
    {
      "cell_type": "markdown",
      "source": [
        "## Part f "
      ],
      "metadata": {
        "id": "wj1wqtn7KLXw"
      }
    },
    {
      "cell_type": "code",
      "source": [
        "## loading predicted value\n",
        "predicted_values = [predict(B,a,x) for x in X]\n",
        "expected_values = Y\n",
        "\n",
        "regression_variance = np.sum([pow((predicted-expected),2) for predicted , expected in zip(predicted_values,expected_values)])\n",
        "total_variance = np.sum([pow(Y_centered,2)])\n",
        "\n",
        "print(\"Regression Variance:\", regression_variance)\n",
        "print(\"Total Variance:\", total_variance)\n",
        "\n",
        "r_squared = 1 - (regression_variance/total_variance)\n",
        "\n",
        "print(\"R Squared:\", r_squared)\n"
      ],
      "metadata": {
        "colab": {
          "base_uri": "https://localhost:8080/"
        },
        "id": "SP__19NzKPbh",
        "outputId": "260e28a7-d7d2-4e2b-c634-8a62ee3e4a28"
      },
      "execution_count": null,
      "outputs": [
        {
          "output_type": "stream",
          "name": "stdout",
          "text": [
            "Regression Variance: 9443.387046216787\n",
            "Total Variance: 50087.117647058825\n",
            "R Squared: 0.8114607609733095\n"
          ]
        }
      ]
    }
  ]
}